{
 "cells": [
  {
   "cell_type": "code",
   "execution_count": 76,
   "metadata": {},
   "outputs": [],
   "source": [
    "import pandas as pd\n",
    "import os\n",
    "import statsmodels.api as sm\n",
    "from sklearn import linear_model\n",
    "import numpy as np"
   ]
  },
  {
   "cell_type": "markdown",
   "source": [
    "### Data Gathering\n",
    "#### This section of the notebooks reads in the data files and stores them im pandas dataframes.\n",
    "The dataframes frames in this section all have colums of [1960 - 2019] and rows for each state execpt for industy_gdp_by_state_df which goes from [1997-2020] "
   ],
   "metadata": {}
  },
  {
   "cell_type": "code",

   "execution_count": 3,
   "source": [
    "csv_path = os.path.join(os.getcwd(), \"data/csv\")"
   ],
   "outputs": [],
   "metadata": {}
  },
  {
   "cell_type": "code",

   "execution_count": 4,

   "source": [
    "#Read in all datasets here \n",
    "\n",
    "vehicle_registration_df = pd.read_csv(os.path.join(csv_path, \"vehicle_registrations_by_state.csv\"))\n",
    "energy_consumption_per_real_gdp_df = pd.read_csv(os.path.join(csv_path, \"energy_consumption_per_real_gdp.csv\"))\n",
    "current_dollar_gdp_df = pd.read_csv(os.path.join(csv_path, \"Current_dollar_GDP.csv\")) #in millions\n",
    "total_consuption_df = pd.read_csv(os.path.join(csv_path, \"total_consuption.csv\")) #in billion Btu\n",
    "industy_gdp_by_state_df = pd.read_csv(os.path.join(csv_path, \"industy_gdp_by_state.csv\"))\n",
    "total_population_df = pd.read_csv(os.path.join(csv_path, \"total_population.csv\"))\n",
    "real_gdp_df = pd.read_csv(os.path.join(csv_path, \"real_GDP.csv\")) #in millions"
   ],
   "outputs": [],
   "metadata": {}
  },
  {
   "cell_type": "code",

   "execution_count": 79,
   "metadata": {},
   "outputs": [],
   "source": [
    "columns_to_drop = ['Unnamed: 91', 'Unnamed: 92', 'Unnamed: 93', 'Unnamed: 94',\n",
    "       'Unnamed: 95', 'Unnamed: 96', 'Unnamed: 97', 'Unnamed: 98',\n",
    "       'Unnamed: 99', 'Unnamed: 100','Unnamed: 62', 'Unnamed: 63', 'Unnamed: 64', 'Unnamed: 65',\n",
    "       'Unnamed: 66', 'Unnamed: 67', 'Unnamed: 68', 'Unnamed: 69',\n",
    "       'Unnamed: 70', 'Unnamed: 71', 'Unnamed: 72', 'Unnamed: 73',\n",
    "       'Unnamed: 74', 'Unnamed: 75', 'Unnamed: 76', 'Unnamed: 77',\n",
    "       'Unnamed: 78', 'Unnamed: 79', 'Unnamed: 80', 'Unnamed: 81',\n",
    "       'Unnamed: 82', 'Unnamed: 83', 'Unnamed: 84', 'Unnamed: 85',\n",
    "       'Unnamed: 86', 'Unnamed: 87', 'Unnamed: 88', 'Unnamed: 89',\n",
    "       'Unnamed: 90', 'Unnamed: 61']"
   ]
  },
  {
   "cell_type": "code",
   "execution_count": 80,
   "metadata": {},

   "outputs": [
    {
     "output_type": "execute_result",
     "data": {
      "text/plain": [
       "Index(['State', '1960', '1961', '1962', '1963', '1964', '1965', '1966', '1967',\n",
       "       '1968', '1969', '1970', '1971', '1972', '1973', '1974', '1975', '1976',\n",
       "       '1977', '1978', '1979', '1980', '1981', '1982', '1983', '1984', '1985',\n",
       "       '1986', '1987', '1988', '1989', '1990', '1991', '1992', '1993', '1994',\n",
       "       '1995', '1996', '1997', '1998', '1999', '2000', '2001', '2002', '2003',\n",
       "       '2004', '2005', '2006', '2007', '2008', '2009', '2010', '2011', '2012',\n",
       "       '2013', '2014', '2015', '2016', '2017', '2018', '2019'],\n",
       "      dtype='object')"
      ]
     },
     "execution_count": 80,
     "metadata": {},
     "output_type": "execute_result"
    }
   ],
   "source": [
    "total_population_df.head()\n",
    "total_population_df = total_population_df.drop( columns = columns_to_drop)"
   ]
  },
  {
   "cell_type": "code",
   "execution_count": 81,
   "metadata": {},
   "outputs": [],
   "source": [
    "total_consuption_df = total_consuption_df.drop( columns = columns_to_drop)"
   ]
  },
  {
   "cell_type": "code",
   "execution_count": 83,
   "metadata": {},
   "outputs": [
    {
     "name": "stderr",
     "output_type": "stream",
     "text": [
      "//anaconda3/lib/python3.7/site-packages/statsmodels/stats/stattools.py:71: ValueWarning: omni_normtest is not valid with less than 8 observations; 4 samples were given.\n",
      "  \"samples were given.\" % int(n), ValueWarning)\n"
     ]
    },
    {
     "data": {
      "text/html": [

       "<table class=\"simpletable\">\n",
       "<caption>OLS Regression Results</caption>\n",
       "<tr>\n",
       "  <th>Dep. Variable:</th>            <td>y</td>        <th>  R-squared (uncentered):</th>      <td>   0.989</td>\n",
       "</tr>\n",
       "<tr>\n",
       "  <th>Model:</th>                   <td>OLS</td>       <th>  Adj. R-squared (uncentered):</th> <td>   0.978</td>\n",
       "</tr>\n",
       "<tr>\n",
       "  <th>Method:</th>             <td>Least Squares</td>  <th>  F-statistic:       </th>          <td>   91.28</td>\n",
       "</tr>\n",
       "<tr>\n",
       "  <th>Date:</th>             <td>Thu, 21 Oct 2021</td> <th>  Prob (F-statistic):</th>           <td>0.0108</td> \n",
       "</tr>\n",
       "<tr>\n",
       "  <th>Time:</th>                 <td>19:25:28</td>     <th>  Log-Likelihood:    </th>          <td> -5.2744</td>\n",
       "</tr>\n",
       "<tr>\n",
       "  <th>No. Observations:</th>      <td>     4</td>      <th>  AIC:               </th>          <td>   14.55</td>\n",
       "</tr>\n",
       "<tr>\n",
       "  <th>Df Residuals:</th>          <td>     2</td>      <th>  BIC:               </th>          <td>   13.32</td>\n",
       "</tr>\n",
       "<tr>\n",
       "  <th>Df Model:</th>              <td>     2</td>      <th>                     </th>              <td> </td>   \n",
       "</tr>\n",
       "<tr>\n",
       "  <th>Covariance Type:</th>      <td>nonrobust</td>    <th>                     </th>              <td> </td>   \n",
       "</tr>\n",

       "</table>\n",
       "<table class=\"simpletable\">\n",
       "<tr>\n",
       "   <td></td>     <th>coef</th>     <th>std err</th>      <th>t</th>      <th>P>|t|</th>  <th>[0.025</th>    <th>0.975]</th>  \n",
       "</tr>\n",
       "<tr>\n",
       "  <th>x1</th> <td>    2.0909</td> <td>    1.636</td> <td>    1.278</td> <td> 0.330</td> <td>   -4.950</td> <td>    9.132</td>\n",
       "</tr>\n",
       "<tr>\n",
       "  <th>x2</th> <td>    1.2727</td> <td>    0.610</td> <td>    2.087</td> <td> 0.172</td> <td>   -1.351</td> <td>    3.897</td>\n",
       "</tr>\n",
       "<tr>\n",
       "  <th>x3</th> <td>    1.2727</td> <td>    0.610</td> <td>    2.087</td> <td> 0.172</td> <td>   -1.351</td> <td>    3.897</td>\n",
       "</tr>\n",
       "</table>\n",
       "<table class=\"simpletable\">\n",
       "<tr>\n",
       "  <th>Omnibus:</th>       <td>   nan</td> <th>  Durbin-Watson:     </th> <td>   0.545</td>\n",
       "</tr>\n",
       "<tr>\n",
       "  <th>Prob(Omnibus):</th> <td>   nan</td> <th>  Jarque-Bera (JB):  </th> <td>   0.448</td>\n",
       "</tr>\n",
       "<tr>\n",
       "  <th>Skew:</th>          <td> 0.000</td> <th>  Prob(JB):          </th> <td>   0.799</td>\n",
       "</tr>\n",
       "<tr>\n",
       "  <th>Kurtosis:</th>      <td> 1.360</td> <th>  Cond. No.          </th> <td>2.14e+17</td>\n",
       "</tr>\n",
       "</table><br/><br/>Warnings:<br/>[1] Standard Errors assume that the covariance matrix of the errors is correctly specified.<br/>[2] The smallest eigenvalue is 9.91e-34. This might indicate that there are<br/>strong multicollinearity problems or that the design matrix is singular."
      ],
      "text/plain": [
       "<class 'statsmodels.iolib.summary.Summary'>\n",
       "\"\"\"\n",
       "                                 OLS Regression Results                                \n",
       "=======================================================================================\n",
       "Dep. Variable:                      y   R-squared (uncentered):                   0.989\n",
       "Model:                            OLS   Adj. R-squared (uncentered):              0.978\n",
       "Method:                 Least Squares   F-statistic:                              91.28\n",
       "Date:                Thu, 21 Oct 2021   Prob (F-statistic):                      0.0108\n",
       "Time:                        19:25:28   Log-Likelihood:                         -5.2744\n",
       "No. Observations:                   4   AIC:                                      14.55\n",
       "Df Residuals:                       2   BIC:                                      13.32\n",
       "Df Model:                           2                                                  \n",
       "Covariance Type:            nonrobust                                                  \n",
       "==============================================================================\n",
       "                 coef    std err          t      P>|t|      [0.025      0.975]\n",
       "------------------------------------------------------------------------------\n",
       "x1             2.0909      1.636      1.278      0.330      -4.950       9.132\n",
       "x2             1.2727      0.610      2.087      0.172      -1.351       3.897\n",
       "x3             1.2727      0.610      2.087      0.172      -1.351       3.897\n",
       "==============================================================================\n",
       "Omnibus:                          nan   Durbin-Watson:                   0.545\n",
       "Prob(Omnibus):                    nan   Jarque-Bera (JB):                0.448\n",
       "Skew:                           0.000   Prob(JB):                        0.799\n",
       "Kurtosis:                       1.360   Cond. No.                     2.14e+17\n",
       "==============================================================================\n",
       "\n",
       "Warnings:\n",
       "[1] Standard Errors assume that the covariance matrix of the errors is correctly specified.\n",
       "[2] The smallest eigenvalue is 9.91e-34. This might indicate that there are\n",
       "strong multicollinearity problems or that the design matrix is singular.\n",
       "\"\"\""
      ]
     },
     "execution_count": 83,
     "metadata": {},
     "execution_count": 11
    }
   ],
   "source": [
    "# A potential library we can use for regression analysis \n",
    "X = np.array([[1, 1,1], [1, 2,2], [2, 2,2], [2, 3,3]])\n",
    "y = [6,8,9,11]\n",
    "lm = linear_model.LinearRegression()\n",
    "model = lm.fit(X,y)\n",
    "\n",
    "predictions = lm.predict(X)\n",
    "\n",
    "model = sm.OLS(y, X).fit()\n",
    "model.summary()\n",
    "\n"
   ]
  },
  {
   "cell_type": "code",
   "execution_count": null,
   "metadata": {},
   "outputs": [],
   "source": []
  }
 ],
 "metadata": {
  "kernelspec": {
   "name": "python3",
   "display_name": "Python 3.9.7 64-bit"
  },
  "language_info": {
   "codemirror_mode": {
    "name": "ipython",
    "version": 3
   },
   "file_extension": ".py",
   "mimetype": "text/x-python",
   "name": "python",
   "nbconvert_exporter": "python",
   "pygments_lexer": "ipython3",
   "version": "3.9.7"
  },
  "interpreter": {
   "hash": "b0fa6594d8f4cbf19f97940f81e996739fb7646882a419484c72d19e05852a7e"
  }
 },
 "nbformat": 4,
 "nbformat_minor": 2
}
