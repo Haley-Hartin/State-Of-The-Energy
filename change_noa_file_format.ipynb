{
 "cells": [
  {
   "cell_type": "code",
   "execution_count": 113,
   "metadata": {},
   "outputs": [],
   "source": [
    "import pandas as pd\n",
    "import glob\n",
    "import os"
   ]
  },
  {
   "cell_type": "code",
   "execution_count": 114,
   "metadata": {},
   "outputs": [],
   "source": [
    "path = \"Data/NOAA Aggregate\"\n",
    "files = os.listdir(os.path.join(os.getcwd(), \"Data/NOAA Aggregate\"))\n",
    "\n",
    "final = pd.DataFrame()\n",
    "cols = ['1960', '1961', '1962', '1963', '1964', '1965', '1966',\n",
    "       '1967', '1968', '1969', '1970', '1971', '1972', '1973',\n",
    "       '1974', '1975', '1976', '1977', '1978', '1979', '1980',\n",
    "       '1981', '1982', '1983', '1984', '1985', '1986', '1987',\n",
    "       '1988', '1989', '1990', '1991', '1992', '1993', '1994',\n",
    "       '1995', '1996', '1997', '1998', '1999', '2000', '2001',\n",
    "       '2002', '2003', '2004', '2005', '2006', '2007', '2008',\n",
    "       '2009', '2010', '2011', '2012', '2013', '2014', '2015',\n",
    "       '2016', '2017', '2018', '2019', '2020', '2021']\n",
    "\n",
    "csvs = ['Unnamed: 0', 'YEAR', 'DP01', 'DP10', 'DP1X', 'DSND', 'DSNW', 'EMSD',\n",
    "       'EMSN', 'EMXP', 'PRCP', 'SNOW', 'DYFG', 'DYTS', 'AWND', 'CDSD', 'CLDD',\n",
    "       'DT00', 'DT32', 'DX32', 'DX70', 'DX90', 'EMNT', 'EMXT', 'EVAP', 'HDSD',\n",
    "       'HTDD', 'MNPN', 'MXPN', 'TAVG', 'TMAX', 'TMIN', 'WDMV', 'WDFG', 'WSFG',\n",
    "       'HX01', 'LX01', 'MX01', 'DYHF', 'TSUN', 'WDF2', 'WDF5', 'WSF2', 'WSF5',\n",
    "       'PSUN']\n"
   ]
  },
  {
   "cell_type": "code",
   "execution_count": 117,
   "metadata": {},
   "outputs": [],
   "source": [
    "columns = []\n",
    "states = []\n",
    "row_cnt = 0\n",
    "for col in range (2,45):\n",
    "    new_df = pd.DataFrame(columns = cols)\n",
    "    row_cnt = 0\n",
    "    states = []\n",
    "    for file in files:\n",
    "        states.append(file.split(\" \")[0])\n",
    "        df = pd.read_csv(os.path.join(os.getcwd(), \"Data/NOAA Aggregate\", file), index_col=None)\n",
    "        row = df[csvs[col]]\n",
    "        new_df.loc[row_cnt] = list(row)\n",
    "        row_cnt = row_cnt+1\n",
    "    new_df.insert(0, 'State', states)\n",
    "    new_df.to_csv((os.path.join(os.getcwd(), \"Data/Uncleaned/csv/NOA\", csvs[col] + '.csv')))\n"
   ]
  }
 ],
 "metadata": {
  "kernelspec": {
   "display_name": "Python 3",
   "language": "python",
   "name": "python3"
  },
  "language_info": {
   "codemirror_mode": {
    "name": "ipython",
    "version": 3
   },
   "file_extension": ".py",
   "mimetype": "text/x-python",
   "name": "python",
   "nbconvert_exporter": "python",
   "pygments_lexer": "ipython3",
   "version": "3.7.3"
  }
 },
 "nbformat": 4,
 "nbformat_minor": 2
}
